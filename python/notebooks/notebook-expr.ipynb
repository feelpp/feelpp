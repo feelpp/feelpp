{
 "cells": [
  {
   "cell_type": "code",
   "execution_count": null,
   "metadata": {},
   "outputs": [],
   "source": [
    "import sys,os\n",
    "dev_mode = True\n",
    "preset = 'python'\n",
    "\n",
    "if dev_mode:\n",
    "    try:\n",
    "        install_prefix = os.environ['CMAKE_INSTALL_PREFIX']\n",
    "        print(f'Using CMAKE_INSTALL_PREFIX={install_prefix}')\n",
    "    except KeyError:\n",
    "        install_prefix = f'../../build/{preset}/install'\n",
    "    print(f'Using install_prefix={install_prefix}')\n",
    "    if os.path.exists(f'{install_prefix}/lib/python3/dist-packages'):\n",
    "        if os.path.abspath(install_prefix)=='/usr':\n",
    "            sys.path.append(os.path.abspath(f'{install_prefix}/lib/python3/dist-packages'))\n",
    "        else:\n",
    "            sys.path.insert(0, os.path.abspath(f'{install_prefix}/lib/python3/dist-packages'))\n",
    "    print(sys.path)"
   ]
  },
  {
   "cell_type": "code",
   "execution_count": null,
   "metadata": {},
   "outputs": [],
   "source": [
    "import feelpp\n",
    "import numpy as np\n",
    "print(f\"feelpp loaded from {feelpp.__file__}\")"
   ]
  },
  {
   "cell_type": "code",
   "execution_count": null,
   "metadata": {},
   "outputs": [],
   "source": [
    "sys.argv = ['feelpp1']\n",
    "e = feelpp.Environment(sys.argv,config=feelpp.localRepository(\"feelpp1\"))"
   ]
  },
  {
   "cell_type": "code",
   "execution_count": null,
   "metadata": {},
   "outputs": [],
   "source": [
    "y = feelpp.expr(\"sin(2*pi*x):x\")\n",
    "y.setParameterValues({\"x\":2.0})\n",
    "import numpy as np\n",
    "x = np.linspace(-1,1,100) \n",
    "import plotly.graph_objects as go\n",
    "fig = go.Figure()\n",
    "fig.add_trace(go.Scatter(x=x, y=y.evaluate(\"x\",x), mode='lines', name='$y$'), )\n",
    "fig.update_xaxes(title_text=r\"x\")\n",
    "fig.update_yaxes(title_text=r\"y\")\n",
    "fig.show()\n"
   ]
  },
  {
   "cell_type": "code",
   "execution_count": null,
   "metadata": {},
   "outputs": [],
   "source": [
    "from feelpp.integrate import integrate\n",
    "geo = {\n",
    "        '2': feelpp.create_rectangle(),\n",
    "        '3': feelpp.create_box(),\n",
    "    }\n",
    "mesh_name = geo['2'][0]\n",
    "print(mesh_name)\n",
    "mesh = feelpp.load(feelpp.mesh(dim=2), geo['2'][0], 0.1)\n",
    "meas = integrate(range=feelpp.elements(mesh),expr=\"1\")\n",
    "print(f\"measure is : {meas}\")\n",
    "assert np.abs(meas[0]-2.0) < 1e-10  "
   ]
  }
 ],
 "metadata": {
  "kernelspec": {
   "display_name": "Python 3",
   "language": "python",
   "name": "python3"
  },
  "language_info": {
   "codemirror_mode": {
    "name": "ipython",
    "version": 3
   },
   "file_extension": ".py",
   "mimetype": "text/x-python",
   "name": "python",
   "nbconvert_exporter": "python",
   "pygments_lexer": "ipython3",
   "version": "3.10.6"
  },
  "orig_nbformat": 4,
  "vscode": {
   "interpreter": {
    "hash": "e7370f93d1d0cde622a1f8e1c04877d8463912d04d973331ad4851f04de6915a"
   }
  }
 },
 "nbformat": 4,
 "nbformat_minor": 2
}
