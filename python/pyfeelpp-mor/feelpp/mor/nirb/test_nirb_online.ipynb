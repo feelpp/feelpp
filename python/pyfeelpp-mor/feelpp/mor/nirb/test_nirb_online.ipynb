{
 "cells": [
  {
   "attachments": {},
   "cell_type": "markdown",
   "metadata": {},
   "source": [
    "Import useful modules "
   ]
  },
  {
   "cell_type": "code",
   "execution_count": 1,
   "metadata": {},
   "outputs": [],
   "source": [
    "import sys\n",
    "import os\n",
    "### discomment above two line ones to add the feelpp path with nirb module in the python environement\n",
    "# feelpath = os.path.join('/data/home/elarif/devel/feelpp/build/python/install/lib/python3/dist-packages')\n",
    "# sys.path.append(feelpath)\n",
    "from feelpp.mor.nirb.nirb import *\n",
    "from feelpp.mor.nirb.utils import init_feelpp_environment\n",
    "from feelpp.mor.nirb.nirb_perf import ComputeErrorSampling, ComputeErrors\n",
    "import time\n",
    "import json\n",
    "import pandas as pd"
   ]
  },
  {
   "attachments": {},
   "cell_type": "markdown",
   "metadata": {},
   "source": [
    "Choose config file"
   ]
  },
  {
   "cell_type": "code",
   "execution_count": 2,
   "metadata": {},
   "outputs": [],
   "source": [
    "config_file = os.path.join(\"/home/saigre/Documents/code/feelpp/python/pyfeelpp-mor/feelpp/mor/nirb/model/square/square.cfg\")\n",
    "N = None # number of basis function saved\n",
    "outdir = None"
   ]
  },
  {
   "attachments": {},
   "cell_type": "markdown",
   "metadata": {},
   "source": [
    "Set feelpp environnement "
   ]
  },
  {
   "cell_type": "code",
   "execution_count": 3,
   "metadata": {},
   "outputs": [
    {
     "name": "stdout",
     "output_type": "stream",
     "text": [
      "[ Starting Feel++ ] application feelpp-mor-nirb version 0.1 date 2023-Jan-24\n",
      " . feelpp-mor-nirb files are stored in /home/saigre/Documents/DELETE_ME/nirb/heat/np_1\n",
      " .. logfiles :/home/saigre/Documents/DELETE_ME/nirb/heat/np_1/logs\n",
      "Reading /home/saigre/Documents/code/feelpp/python/pyfeelpp-mor/feelpp/mor/nirb/model/square/square.cfg...\n"
     ]
    }
   ],
   "source": [
    "cfg = feelpp.readCfg(config_file)\n",
    "toolboxType = cfg['nirb']['toolboxType'][0]\n",
    "e = init_feelpp_environment(toolboxType, config_file)\n",
    "\n",
    "nirb_file = feelpp.Environment.expand(cfg['nirb']['filename'][0])\n",
    "config_nirb = feelpp.readJson(nirb_file)['nirb']"
   ]
  },
  {
   "attachments": {},
   "cell_type": "markdown",
   "metadata": {},
   "source": [
    "Get number of basis functions saved. By defaults, it will take the value filled in the model path. "
   ]
  },
  {
   "cell_type": "code",
   "execution_count": 4,
   "metadata": {},
   "outputs": [],
   "source": [
    "nbSnap=N\n",
    "if nbSnap==None:\n",
    "    nbSnap = config_nirb['nbSnapshots']"
   ]
  },
  {
   "attachments": {},
   "cell_type": "markdown",
   "metadata": {},
   "source": [
    "Set the input/output path "
   ]
  },
  {
   "cell_type": "code",
   "execution_count": 5,
   "metadata": {},
   "outputs": [],
   "source": [
    "doGreedy = config_nirb['greedy-generation']\n",
    "doRectification = config_nirb['doRectification']\n",
    "rectPath = [\"noRect\", \"Rect\"][doRectification]\n",
    "greedyPath = [\"noGreedy\", \"Greedy\"][doGreedy]\n",
    "\n",
    "if outdir is None:\n",
    "    RESPATH = f\"results/{rectPath}/{greedyPath}\"\n",
    "else:\n",
    "    RESPATH = outdir"
   ]
  },
  {
   "attachments": {},
   "cell_type": "markdown",
   "metadata": {},
   "source": [
    "Initialize nirb offline class "
   ]
  },
  {
   "cell_type": "code",
   "execution_count": 6,
   "metadata": {},
   "outputs": [
    {
     "name": "stdout",
     "output_type": "stream",
     "text": [
      "[NIRB] ToolboxModel created, but the objects have not yet been initialized. Please call initModel() or setModel() to initialize the objects.\n",
      "[NIRB] Initialization done\n",
      "[loadMesh] Loading mesh in format geo+msh: \"/home/saigre/Documents/code/feelppheat(2,1)\n",
      "/python/pyfeelpp-mor/feelpp/mor/nirb/model/square/square.geo\"\n",
      "[loadMesh] Use default geo desc: /home/saigre/Documents/code/feelpp/python/pyfeelpp-mor/feelpp/mor/nirb/model/square/square.geo 0.01 \n",
      "[NIRB] Initialization done\n",
      "[NIRB] Number of nodes on the fine mesh : 11860\n",
      "[CRBmodelProperties] Loading Model Properties : \"/home/saigre/Documents/code/feelpp/python/pyfeelpp-mor/feelpp/mor/nirb/model/square/square.json\"\n",
      "heat(2,1)\n",
      "[NIRB] Number of nodes on the coarse mesh : 156\n",
      "[loadMesh] Loading mesh in format geo+msh: \"/home/saigre/Documents/code/feelpp/python/pyfeelpp-mor/feelpp/mor/nirb/model/square/square.geo\"\n",
      "[loadMesh] Use default geo desc: /home/saigre/Documents/code/feelpp/python/pyfeelpp-mor/feelpp/mor/nirb/model/square/square.geo 0.1 \n"
     ]
    }
   ],
   "source": [
    "nirb_on = nirbOnline(**config_nirb)\n",
    "nirb_on.initModel()"
   ]
  },
  {
   "attachments": {},
   "cell_type": "markdown",
   "metadata": {},
   "source": [
    "Load offline data"
   ]
  },
  {
   "cell_type": "code",
   "execution_count": 7,
   "metadata": {},
   "outputs": [
    {
     "name": "stdout",
     "output_type": "stream",
     "text": [
      "[NIRB] Loading data from /home/saigre/Documents/DELETE_ME/nirb/heat/np_1/results/Rect/Greedy\n",
      "[NIRB] Data loaded from /home/saigre/Documents/DELETE_ME/nirb/heat/np_1/results/Rect/Greedy\n",
      "[NIRB] Number of basis functions loaded : 10\n"
     ]
    }
   ],
   "source": [
    "err = nirb_on.loadData(path=RESPATH, nbSnap=nbSnap)\n",
    "assert err == 0, \"Error while loading data\""
   ]
  },
  {
   "attachments": {},
   "cell_type": "markdown",
   "metadata": {},
   "source": [
    "Choose the parameter to cumpute nirb approximate solution "
   ]
  },
  {
   "cell_type": "code",
   "execution_count": 8,
   "metadata": {},
   "outputs": [
    {
     "name": "stdout",
     "output_type": "stream",
     "text": [
      "Bi\t0.01\n",
      "k1\t0.1\n",
      "k2\t0.1\n",
      "k3\t0.1\n"
     ]
    }
   ],
   "source": [
    "mu = nirb_on.Dmu.min() # get the min value of parameters given in the model\n",
    "mu.view()"
   ]
  },
  {
   "attachments": {},
   "cell_type": "markdown",
   "metadata": {},
   "source": [
    "Compute approximate solution "
   ]
  },
  {
   "cell_type": "code",
   "execution_count": 9,
   "metadata": {},
   "outputs": [
    {
     "name": "stdout",
     "output_type": "stream",
     "text": [
      "[NIRB] Solution computed with Rectification post-process \n"
     ]
    }
   ],
   "source": [
    "uHh = nirb_on.getOnlineSol(mu)\n",
    "uh = nirb_on.getToolboxSolution(nirb_on.tbFine, mu)"
   ]
  },
  {
   "cell_type": "code",
   "execution_count": 10,
   "metadata": {},
   "outputs": [
    {
     "name": "stdout",
     "output_type": "stream",
     "text": [
      "0.04326018909582374\n",
      "0.18563488118140725\n"
     ]
    }
   ],
   "source": [
    "l2Mat = nirb_on.generateOperators()\n",
    "print(nirb_on.normMat(l2Mat, uHh-uh))\n",
    "print((uHh - uh).linftyNorm())"
   ]
  },
  {
   "cell_type": "code",
   "execution_count": 11,
   "metadata": {},
   "outputs": [],
   "source": [
    "nirb_on.initExporter(\"ExporterNORECT\")\n",
    "nirb_on.exportField(uHh, \"uHh\")\n",
    "nirb_on.exportField(uh, \"uh\")\n",
    "nirb_on.saveExporter()"
   ]
  },
  {
   "attachments": {},
   "cell_type": "markdown",
   "metadata": {},
   "source": [
    "Get solution for different size of subspaces"
   ]
  },
  {
   "cell_type": "code",
   "execution_count": 12,
   "metadata": {},
   "outputs": [
    {
     "name": "stdout",
     "output_type": "stream",
     "text": [
      "[NIRB] Solution computed with Rectification post-process \n",
      "[NIRB] Solution computed with Rectification post-process \n",
      "[NIRB] Solution computed with Rectification post-process \n",
      "[NIRB] Solution computed with Rectification post-process \n",
      "[NIRB] Solution computed with Rectification post-process \n",
      "[NIRB] Solution computed with Rectification post-process \n",
      "[NIRB] Solution computed with Rectification post-process \n",
      "[NIRB] Solution computed with Rectification post-process \n",
      "[NIRB] Solution computed with Rectification post-process \n",
      "[NIRB] Solution computed with Rectification post-process \n"
     ]
    }
   ],
   "source": [
    "solutions = []\n",
    "for n in range(1, nirb_on.N+1):\n",
    "    solutions.append(nirb_on.getOnlineSol(mu, n))"
   ]
  },
  {
   "cell_type": "code",
   "execution_count": 13,
   "metadata": {},
   "outputs": [],
   "source": [
    "nirb_on.initExporter(\"NirbN\")\n",
    "nirb_on.exportField(uh, \"uh\")\n",
    "for i, uHnN in enumerate(solutions):\n",
    "    nirb_on.exportField(uHnN, f\"uHn{i+1:02}\")\n",
    "nirb_on.saveExporter()"
   ]
  },
  {
   "attachments": {},
   "cell_type": "markdown",
   "metadata": {},
   "source": [
    "Show infos "
   ]
  },
  {
   "cell_type": "code",
   "execution_count": 12,
   "metadata": {},
   "outputs": [
    {
     "name": "stdout",
     "output_type": "stream",
     "text": [
      "[NIRB] Online part Done !\n"
     ]
    }
   ],
   "source": [
    "if feelpp.Environment.isMasterRank():\n",
    "    print(f\"[NIRB] Online part Done !\")"
   ]
  },
  {
   "attachments": {},
   "cell_type": "markdown",
   "metadata": {},
   "source": [
    "# NIRB perfs "
   ]
  },
  {
   "attachments": {},
   "cell_type": "markdown",
   "metadata": {},
   "source": [
    "We can compare the above nirb solution with the FE one. "
   ]
  },
  {
   "cell_type": "code",
   "execution_count": 13,
   "metadata": {},
   "outputs": [],
   "source": [
    "errorN = ComputeErrors(nirb_on, mu, h1=True)\n",
    "df = pd.DataFrame(errorN)\n",
    "df['N'] = nirb_on.N"
   ]
  },
  {
   "attachments": {},
   "cell_type": "markdown",
   "metadata": {},
   "source": [
    "Display errors "
   ]
  },
  {
   "cell_type": "code",
   "execution_count": 14,
   "metadata": {},
   "outputs": [
    {
     "name": "stdout",
     "output_type": "stream",
     "text": [
      "[NIRB online] with 10 basis functions \n",
      "[NIRB online] Convergence error between nirb and FE solution \n",
      "   l2(uh-uHn)  l2(uh-uHn)rec  l2(uh-uhn)    l2(uh)  l2(uh-uH)  h1(uh-uHn)  \\\n",
      "0    0.006607       0.006658    0.006405  3.905143   0.002682    0.114305   \n",
      "\n",
      "   h1(uh-uHn)rec  h1(uh-uhn)    h1(uh)  h1(uh-uH)   N  \n",
      "0       0.113956    0.114576  3.513885   0.137766  10  \n"
     ]
    }
   ],
   "source": [
    "if feelpp.Environment.isMasterRank():\n",
    "    print(f\"[NIRB online] with {nirb_on.N} basis functions \")\n",
    "    print(f\"[NIRB online] Convergence error between nirb and FE solution \")\n",
    "    print(df.head())"
   ]
  },
  {
   "attachments": {},
   "cell_type": "markdown",
   "metadata": {},
   "source": [
    "Or get error on a sampling of parameters. This will compare the nirb solution with the FE one on the fine mesh computed from parameter in the sampling (take little time). "
   ]
  },
  {
   "cell_type": "code",
   "execution_count": 15,
   "metadata": {},
   "outputs": [
    {
     "name": "stderr",
     "output_type": "stream",
     "text": [
      "[NIRB] ComputeErrorSampling: 100%|██████████████████████████████████████████████████████| 30/30 [00:02<00:00, 10.58it/s]\n"
     ]
    }
   ],
   "source": [
    "Nsample = 30\n",
    "errorN = ComputeErrorSampling(nirb_on, Nsample=Nsample, h1=True)\n",
    "df = pd.DataFrame(errorN)\n",
    "df['N'] = nirb_on.N"
   ]
  },
  {
   "attachments": {},
   "cell_type": "markdown",
   "metadata": {},
   "source": [
    "Display errors "
   ]
  },
  {
   "cell_type": "code",
   "execution_count": 16,
   "metadata": {},
   "outputs": [
    {
     "name": "stdout",
     "output_type": "stream",
     "text": [
      "[NIRB online] with 10 basis functions \n",
      "[NIRB online] Error on a sampling of 30 parameters \n",
      "[NIRB online] Mean of errors \n",
      "l2(uh-uHn)        0.005083\n",
      "l2(uh-uHn)rec     0.004873\n",
      "l2(uh-uhn)        0.004599\n",
      "l2(uh)            1.505833\n",
      "l2(uh-uH)         0.002356\n",
      "h1(uh-uHn)        0.069181\n",
      "h1(uh-uHn)rec     0.069215\n",
      "h1(uh-uhn)        0.068691\n",
      "h1(uh)            0.687786\n",
      "h1(uh-uH)         0.074870\n",
      "N                10.000000\n",
      "dtype: float64\n",
      "[NIRB online] Min of errors \n",
      "l2(uh-uHn)        0.000718\n",
      "l2(uh-uHn)rec     0.000419\n",
      "l2(uh-uhn)        0.000416\n",
      "l2(uh)            0.489774\n",
      "l2(uh-uH)         0.000415\n",
      "h1(uh-uHn)        0.007113\n",
      "h1(uh-uHn)rec     0.006154\n",
      "h1(uh-uhn)        0.006162\n",
      "h1(uh)            0.329100\n",
      "h1(uh-uH)         0.022834\n",
      "N                10.000000\n",
      "dtype: float64\n",
      "[NIRB online] Max of errors \n",
      "l2(uh-uHn)        0.025149\n",
      "l2(uh-uHn)rec     0.025016\n",
      "l2(uh-uhn)        0.024925\n",
      "l2(uh)            7.059206\n",
      "l2(uh-uH)         0.014794\n",
      "h1(uh-uHn)        0.353910\n",
      "h1(uh-uHn)rec     0.354452\n",
      "h1(uh-uhn)        0.353606\n",
      "h1(uh)            2.668746\n",
      "h1(uh-uH)         0.432593\n",
      "N                10.000000\n",
      "dtype: float64\n"
     ]
    }
   ],
   "source": [
    "\n",
    "if feelpp.Environment.isMasterRank():\n",
    "    print(f\"[NIRB online] with {nirb_on.N} basis functions \")\n",
    "    print(f\"[NIRB online] Error on a sampling of {df.shape[0]} parameters \")\n",
    "    data_mean = df.mean(axis=0)\n",
    "    print(\"[NIRB online] Mean of errors \")\n",
    "    print(data_mean)\n",
    "    data_min = df.min(axis=0)\n",
    "    print(\"[NIRB online] Min of errors \")\n",
    "    print(data_min)\n",
    "    data_max = df.max(axis=0)\n",
    "    print(\"[NIRB online] Max of errors \")\n",
    "    print(data_max)"
   ]
  },
  {
   "attachments": {},
   "cell_type": "markdown",
   "metadata": {},
   "source": [
    "Save covergence error values in a `csv` file for making statistics or vizualisation   "
   ]
  },
  {
   "cell_type": "code",
   "execution_count": 17,
   "metadata": {},
   "outputs": [],
   "source": [
    "file =RESPATH +f\"/errors{Nsample}Params.csv\"\n",
    "header = not os.path.isfile(file)\n",
    "df.to_csv(file, mode='a', index=False, header=header)"
   ]
  }
 ],
 "metadata": {
  "kernelspec": {
   "display_name": "Python 3",
   "language": "python",
   "name": "python3"
  },
  "language_info": {
   "codemirror_mode": {
    "name": "ipython",
    "version": 3
   },
   "file_extension": ".py",
   "mimetype": "text/x-python",
   "name": "python",
   "nbconvert_exporter": "python",
   "pygments_lexer": "ipython3",
   "version": "3.10.6"
  },
  "orig_nbformat": 4,
  "vscode": {
   "interpreter": {
    "hash": "916dbcbb3f70747c44a77c7bcd40155683ae19c65e1c03b4aa3499c5328201f1"
   }
  }
 },
 "nbformat": 4,
 "nbformat_minor": 2
}
