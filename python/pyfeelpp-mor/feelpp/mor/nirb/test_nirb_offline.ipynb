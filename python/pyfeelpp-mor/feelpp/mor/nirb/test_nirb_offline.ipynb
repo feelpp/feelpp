{
 "cells": [
  {
   "cell_type": "markdown",
   "metadata": {},
   "source": [
    "Import useful modules "
   ]
  },
  {
   "cell_type": "code",
   "execution_count": 1,
   "metadata": {},
   "outputs": [],
   "source": [
    "import sys\n",
    "import os\n",
    "### discomment above two line ones to add the feelpp path with nirb module in the python environement\n",
    "# feelpath = os.path.join('/data/home/elarif/devel/feelpp/build/python/install/lib/python3/dist-packages')\n",
    "# sys.path.append(feelpath)\n",
    "# print(sys.path)\n",
    "from feelpp.mor.nirb.nirb import *\n",
    "from feelpp.mor.nirb.utils import init_feelpp_environment\n",
    "import time\n",
    "import json\n"
   ]
  },
  {
   "cell_type": "markdown",
   "metadata": {},
   "source": [
    "Choose config file"
   ]
  },
  {
   "cell_type": "code",
   "execution_count": 2,
   "metadata": {},
   "outputs": [],
   "source": [
    "config_file = os.path.join(\"/home/saigre/Documents/code/feelpp/python/pyfeelpp-mor/feelpp/mor/nirb/model/square/square.cfg\")\n",
    "N = None # number of initiale snapshot\n",
    "greedy_tol = 1.e-5 # convergence criteria of Greedy method\n",
    "Nmax_greedy = 100\n",
    "outdir = None"
   ]
  },
  {
   "cell_type": "markdown",
   "metadata": {},
   "source": [
    "Set feelpp environment "
   ]
  },
  {
   "cell_type": "code",
   "execution_count": 3,
   "metadata": {},
   "outputs": [
    {
     "name": "stdout",
     "output_type": "stream",
     "text": [
      "[ Starting Feel++ ] application feelpp-mor-nirb version 0.1 date 2023-Jan-23\n",
      " . feelpp-mor-nirb files are stored in /home/saigre/Documents/DELETE_ME/nirb/heat/np_1\n",
      " .. logfiles :/home/saigre/Documents/DELETE_ME/nirb/heat/np_1/logs\n",
      "Reading /home/saigre/Documents/code/feelpp/python/pyfeelpp-mor/feelpp/mor/nirb/model/square/square.cfg...\n"
     ]
    }
   ],
   "source": [
    "cfg = feelpp.readCfg(config_file)\n",
    "toolboxType = cfg['nirb']['toolboxType'][0]\n",
    "e = init_feelpp_environment(toolboxType, config_file)\n",
    "\n",
    "nirb_file = feelpp.Environment.expand(cfg['nirb']['filename'][0])\n",
    "config_nirb = feelpp.readJson(nirb_file)['nirb']"
   ]
  },
  {
   "cell_type": "markdown",
   "metadata": {},
   "source": [
    "Get number of initial snapshots. By defaults, it will take the value filled in the model path. "
   ]
  },
  {
   "cell_type": "code",
   "execution_count": 4,
   "metadata": {},
   "outputs": [],
   "source": [
    "nbSnap=N\n",
    "if nbSnap==None:\n",
    "    nbSnap = config_nirb['nbSnapshots']"
   ]
  },
  {
   "cell_type": "markdown",
   "metadata": {},
   "source": [
    "Set the output path "
   ]
  },
  {
   "cell_type": "code",
   "execution_count": 5,
   "metadata": {},
   "outputs": [],
   "source": [
    "# doGreedy = config_nirb['greedy-generation']\n",
    "doGreedy = False\n",
    "doRectification = config_nirb['doRectification']\n",
    "rectPath = [\"noRect\", \"Rect\"][doRectification]\n",
    "greedyPath = [\"noGreedy\", \"Greedy\"][doGreedy]\n",
    "\n",
    "if outdir is None:\n",
    "    RESPATH = f\"results/{rectPath}/{greedyPath}\"\n",
    "else:\n",
    "    RESPATH = outdir"
   ]
  },
  {
   "attachments": {},
   "cell_type": "markdown",
   "metadata": {},
   "source": [
    "Initialize nirb offline class : either from scratch or from a ToolboxModel already initialized"
   ]
  },
  {
   "cell_type": "code",
   "execution_count": 6,
   "metadata": {},
   "outputs": [
    {
     "name": "stdout",
     "output_type": "stream",
     "text": [
      "[NIRB] ToolboxModel created, but the objects have not yet been initialized. Please call initModel() or setModel() to initialize the objects.\n",
      "[loadMesh] Loading mesh in format geo+msh: \"/home/saigre/Documents/code/feelpp/python/pyfeelpp-mor/feelpp/mor/nirb/model/square/square.geo\"\n",
      "[loadMesh] Use default geo desc: /home/saigre/Documents/code/feelpp/python/pyfeelpp-mor/feelpp/mor/nirb/model/square/square.geo 0.01 \n",
      "heat(2,1)\n",
      "[NIRB] Initialization done\n",
      "[NIRB] Number of nodes on the fine mesh : 11860\n",
      "[NIRB] ToolboxModel created, but the objects have not yet been initialized. Please call initModel() or setModel() to initialize the objects.\n",
      "[NIRB Offline] Initialization done\n",
      "[NIRB] Initialization done\n",
      "[NIRB] Number of nodes on the fine mesh : 11860\n",
      "heat(2,1)\n",
      "[NIRB] Number of nodes on the coarse mesh : 156\n",
      "[CRBmodelProperties] Loading Model Properties : \"/home/saigre/Documents/code/feelpp/python/pyfeelpp-mor/feelpp/mor/nirb/model/square/square.json\"\n",
      "[loadMesh] Loading mesh in format geo+msh: \"/home/saigre/Documents/code/feelpp/python/pyfeelpp-mor/feelpp/mor/nirb/model/square/square.geo\"\n",
      "[loadMesh] Use default geo desc: /home/saigre/Documents/code/feelpp/python/pyfeelpp-mor/feelpp/mor/nirb/model/square/square.geo 0.1 \n"
     ]
    }
   ],
   "source": [
    "if False:\n",
    "    nirb_off = nirbOffline(initCoarse=True, **config_nirb)\n",
    "    nirb_off.initModel()\n",
    "\n",
    "else:\n",
    "    tb = ToolboxModel(**config_nirb)\n",
    "    tb.initModel()\n",
    "\n",
    "    nirb_off = nirbOffline(initCoarse=True, **config_nirb)\n",
    "    nirb_off.setModel(tb)"
   ]
  },
  {
   "cell_type": "code",
   "execution_count": 7,
   "metadata": {},
   "outputs": [],
   "source": [
    "nirb_off.generateOperators(coarse=True)"
   ]
  },
  {
   "cell_type": "markdown",
   "metadata": {},
   "source": [
    "Get nirb reduced basis functions "
   ]
  },
  {
   "cell_type": "code",
   "execution_count": 8,
   "metadata": {},
   "outputs": [
    {
     "name": "stdout",
     "output_type": "stream",
     "text": [
      "Running simulation with mu = [1.16e-01,2.49e+00,7.60e+00,4.23e+00]\n",
      "Running simulation with mu = [1.00e+00,3.21e+00,5.54e+00,5.09e+00]\n",
      "Running simulation with mu = [9.94e-01,7.52e+00,4.97e+00,6.82e+00]\n",
      "Running simulation with mu = [9.89e-01,6.65e+00,6.66e-01,3.70e+00]\n",
      "Running simulation with mu = [6.00e-01,7.78e-01,6.29e+00,3.71e+00]\n",
      "Running simulation with mu = [2.24e-01,3.85e-01,5.62e-01,3.54e-01]\n",
      "Running simulation with mu = [3.04e-01,5.87e+00,2.59e-01,2.52e+00]\n",
      "Running simulation with mu = [3.19e-01,9.60e+00,5.44e-01,5.17e+00]\n",
      "Running simulation with mu = [4.16e-01,9.51e-01,8.30e+00,2.37e+00]\n",
      "Running simulation with mu = [5.92e-01,6.73e+00,5.05e+00,3.96e+00]\n",
      "[NIRB] Number of snapshot computed : 10\n",
      "[NIRB] Gram-Schmidt L2 orthonormalization done after 0 step\n",
      "[NIRB] Number of modes : 10\n",
      "Is L2 orthonormalized ? True\n"
     ]
    }
   ],
   "source": [
    "Xi_train=None\n",
    "\n",
    "if doGreedy:\n",
    "    _, Xi_train, _ = nirb_off.initProblemGreedy(500, greedy_tol, Nmax=Nmax_greedy, Xi_train=Xi_train, computeCoarse=True, samplingMode=\"log-random\")\n",
    "else:\n",
    "    Xi_train = nirb_off.initProblem(nbSnap)\n",
    "nirb_off.generateReducedBasis(regulParam=1.e-10)\n",
    "\n",
    "print(\"Is L2 orthonormalized ?\", nirb_off.checkL2Orthonormalized())\n"
   ]
  },
  {
   "cell_type": "markdown",
   "metadata": {},
   "source": [
    "Save datas. \n",
    "\n",
    "If `outdir`is given, the results will be saved on this path. otherwise they are saved in : \"HOME/feelppdb/nirb/{ToolboxType}/np_{k}/{RESPATH}\" where `k` is the number of process. "
   ]
  },
  {
   "cell_type": "code",
   "execution_count": 9,
   "metadata": {},
   "outputs": [
    {
     "name": "stdout",
     "output_type": "stream",
     "text": [
      "[NIRB] Data saved in /home/saigre/Documents/DELETE_ME/nirb/heat/np_1/results/noRect/noGreedy\n"
     ]
    }
   ],
   "source": [
    "nirb_off.saveData(RESPATH, force=True)"
   ]
  },
  {
   "cell_type": "markdown",
   "metadata": {},
   "source": [
    "Get infos "
   ]
  },
  {
   "cell_type": "code",
   "execution_count": 10,
   "metadata": {},
   "outputs": [
    {
     "name": "stdout",
     "output_type": "stream",
     "text": [
      "{\n",
      "    \"H\": 0.1,\n",
      "    \"NH\": 156,\n",
      "    \"Ndofs\": 11860,\n",
      "    \"Nh\": 11860,\n",
      "    \"dimension\": 2,\n",
      "    \"h\": 0.010000000000000002,\n",
      "    \"order\": 1,\n",
      "    \"outdir\": \"/home/saigre/Documents/DELETE_ME/nirb/heat/np_1/results/noRect/noGreedy\",\n",
      "    \"toolboxType\": \"heat\"\n",
      "}\n",
      "[NIRB] Offline part Done !\n"
     ]
    }
   ],
   "source": [
    "info = nirb_off.getInformations()\n",
    "\n",
    "if feelpp.Environment.isMasterRank():\n",
    "    print(json.dumps(info, sort_keys=True, indent=4))\n",
    "    print(f\"[NIRB] Offline part Done !\")"
   ]
  }
 ],
 "metadata": {
  "kernelspec": {
   "display_name": "Python 3",
   "language": "python",
   "name": "python3"
  },
  "language_info": {
   "codemirror_mode": {
    "name": "ipython",
    "version": 3
   },
   "file_extension": ".py",
   "mimetype": "text/x-python",
   "name": "python",
   "nbconvert_exporter": "python",
   "pygments_lexer": "ipython3",
   "version": "3.10.6"
  },
  "orig_nbformat": 4,
  "vscode": {
   "interpreter": {
    "hash": "31f2aee4e71d21fbe5cf8b01ff0e069b9275f58929596ceb00d14d90e3e16cd6"
   }
  }
 },
 "nbformat": 4,
 "nbformat_minor": 2
}
