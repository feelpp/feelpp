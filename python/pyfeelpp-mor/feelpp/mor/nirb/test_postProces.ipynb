{
 "cells": [
  {
   "cell_type": "code",
   "execution_count": 1,
   "id": "6ced5b9c",
   "metadata": {},
   "outputs": [],
   "source": [
    "import sys\n",
    "import pandas as pd\n",
    "import numpy as np\n",
    "import matplotlib.pyplot as plt\n",
    "import tikzplotlib\n",
    "import os\n",
    "import girder_client\n",
    "import plotly.express as px \n",
    "\n",
    "from postProcess import *"
   ]
  },
  {
   "cell_type": "code",
   "execution_count": 7,
   "id": "c73f56dd",
   "metadata": {},
   "outputs": [],
   "source": [
    "gc = girder_client.GirderClient(apiUrl='https://girder.math.unistra.fr/api/v1')"
   ]
  },
  {
   "attachments": {},
   "cell_type": "markdown",
   "id": "0f77e23c",
   "metadata": {
    "tags": [
     "run_error_command"
    ]
   },
   "source": [
    "[commande]<this-cell> \n",
    "The command to run nirb test error is : \n",
    "\n",
    "```shell \n",
    "mpiexec -n `Np` -bind-to core python3 run_nirb_perf.py --config-file `model` --Ntest `Nt` --Nbase `Nb` --idmodel `id` \n",
    "``` \n",
    "\n",
    "where : \\\n",
    "`Np` = (number of proc) \\\n",
    "`model`= (the cfg file of the model) \\\n",
    "`Nt` = (number of parameter in the sampling) \\\n",
    "`Nb` = (number of basis function in the offline step) \\\n",
    "`id` = (an identifiant for the model). It creates both distinct sampling for test and training associated with `id`if they are not exist. Sampling files will be named : `sampling_train_{id}_N{Nb}.sample` and `sampling_test_{id}_N{Nt}.sample`.\n",
    "\n",
    "The returned error file is named : `errors{Nt}Params_{id}lmd{n}.csv` \\\n",
    "The parameter `n` represente the exponent used for the regularization parameter of the rectification pre-process. The parameter is given by : $lm = 10^{-n}$. Defaults value is `n=10`.\n"
   ]
  },
  {
   "attachments": {},
   "cell_type": "markdown",
   "id": "fd9da106",
   "metadata": {},
   "source": [
    "Plot error for 3D test case (Thermal fin 3D).\n",
    "\n",
    "From the above command, we take :\\\n",
    "`Np = 16`\\\n",
    "`model = model/thermal-fin-3d/thermal-fin.cfg`\\\n",
    "`Nt = 20`\\\n",
    "`Nb = 100`\\\n",
    "`id = 3dfin` "
   ]
  },
  {
   "cell_type": "code",
   "execution_count": null,
   "id": "8b74c7cd",
   "metadata": {},
   "outputs": [],
   "source": [
    "file = 'errorfile.csv'\n",
    "gc.downloadFile(\"63fc8b77b0e9570495446ac5\", path=file) # download from girder \n",
    "\n",
    "df = pd.read_csv(file) # read csv file \n",
    "l2df = getDataStat(df,h1norm=False) # get the mean, max and min of sampling error \n",
    "\n",
    "keys = 'Mean' # or 'Max', 'Min'\n",
    "plotErrors(l2df, keys=keys,texSave=False) "
   ]
  },
  {
   "attachments": {},
   "cell_type": "markdown",
   "id": "0dcf0f82",
   "metadata": {},
   "source": [
    "Plot error for 2D test case (Square domain divided into 4 sub-domain). \\\n",
    "\n",
    "From the top command, we take :\\\n",
    "`Np = 1`\\\n",
    "`model = model/square/square.cfg`\\\n",
    "`Nt = 30`\\\n",
    "`Nb = 100`\\\n",
    "`id = s4` "
   ]
  },
  {
   "cell_type": "code",
   "execution_count": null,
   "id": "11f34641",
   "metadata": {},
   "outputs": [],
   "source": [
    "file = 'errorfile.csv'\n",
    "id = \"63fc8aa9b0e9570495446a8e\"\n",
    "gc.downloadFile(id, path=file) # download from girder \n",
    "\n",
    "df = pd.read_csv(file) # read csv file \n",
    "l2df = getDataStat(df,h1norm=False) # get the mean, max and min of sampling error \n",
    "\n",
    "keys = 'Mean' # or 'Max', 'Min'\n",
    "plotErrors(l2df, keys=keys,texSave=False) "
   ]
  },
  {
   "attachments": {},
   "cell_type": "markdown",
   "id": "b9645aa9",
   "metadata": {},
   "source": [
    "Plot error for 2D test case (Square domain divided into 9 sub-domain). \\\n",
    "\n",
    "From the top command, we take :\\\n",
    "`Np = 1`\\\n",
    "`model = model/square/square9.cfg`\\\n",
    "`Nt = 30`\\\n",
    "`Nb = 100`\\\n",
    "`id = s9` "
   ]
  },
  {
   "cell_type": "code",
   "execution_count": null,
   "id": "c19f7549",
   "metadata": {},
   "outputs": [],
   "source": [
    "file = 'errorfile.csv'\n",
    "id = \"63fc8aaab0e9570495446aa9\"\n",
    "gc.downloadFile(id, path=file) # download from girder \n",
    "\n",
    "df = pd.read_csv(file) # read csv file \n",
    "l2df = getDataStat(df,h1norm=False) # get the mean, max and min of sampling error \n",
    "\n",
    "keys = 'Mean' # or 'Max', 'Min'\n",
    "plotErrors(l2df, keys=keys,texSave=False)"
   ]
  },
  {
   "attachments": {},
   "cell_type": "markdown",
   "id": "e1be4435",
   "metadata": {},
   "source": [
    "Compare nirb error in respect to regularization parameter :\\\n",
    "We choose the square domain divided into 4 and 9 subdomains.\\\n",
    "\n",
    "The files are named by : \"errors30Params_s4lmd{n}.csv\".\\\n",
    "where `n` is the exponent associated to regularization parameter ($lm = 10^{-n}$). "
   ]
  },
  {
   "cell_type": "code",
   "execution_count": null,
   "id": "3bbd8ffa",
   "metadata": {},
   "outputs": [],
   "source": [
    "### Case of 4 subdomains \n",
    "dir = \"errorDatasS4\"\n",
    "id = \"6407116eb0e9570495446ac6\"\n",
    "gc.downloadFolderRecursive(id, dir, sync=True)\n",
    "cut1 = \"errors30Params_s4lmd\"\n",
    "cut2 = \".csv\"\n",
    "listdfl2=[]\n",
    "listlabel =[]\n",
    "\n",
    "for f in os.listdir(dir):\n",
    "    n = int(f[len(cut1):-len(cut2)])\n",
    "    file = os.path.join(dir, f)\n",
    "    dfG = pd.read_csv(file, sep=',')\n",
    "    dl2 = getDataStat(dfG,h1norm=False)\n",
    "    listdfl2.append(dl2)\n",
    "    listlabel.append(f\"$\\lambda = 1.e^{n}$\")\n",
    "\n",
    "\n",
    "keys='Mean' # or 'Min', or 'Max'\n",
    "compareListOfDataFrams(listdfl2, norm=keys, listlabel=listlabel, rectif=True)\n",
    "\n"
   ]
  },
  {
   "cell_type": "code",
   "execution_count": null,
   "id": "7d153b4e",
   "metadata": {},
   "outputs": [],
   "source": [
    "### Case of 9 subdomains \n",
    "dir = \"errorDatasS9\"\n",
    "id = \"63fc89b0b0e9570495446a79\"\n",
    "gc.downloadFolderRecursive(id, dir, sync=True)\n",
    "cut1 = \"errors30Params_s9lmd\"\n",
    "cut2 = \".csv\"\n",
    "listdfl2=[]\n",
    "listlabel =[]\n",
    "\n",
    "for f in os.listdir(dir):\n",
    "    n = int(f[len(cut1):-len(cut2)])\n",
    "    file = os.path.join(dir, f)\n",
    "    dfG = pd.read_csv(file, sep=',')\n",
    "    dl2 = getDataStat(dfG,h1norm=False)\n",
    "    listdfl2.append(dl2)\n",
    "    listlabel.append(f\"$\\lambda = 1.e^{n}$\")\n",
    "\n",
    "keys='Mean' # or 'Min', or 'Max'\n",
    "compareListOfDataFrams(listdfl2, norm=keys, listlabel=listlabel, rectif=True)"
   ]
  },
  {
   "attachments": {},
   "cell_type": "markdown",
   "id": "28e5786b",
   "metadata": {},
   "source": [
    "Comparaison of nirb error in respect of number of model parameters.\\\n",
    "The square domain is divided into 2,4,9,16 and 25 sub-domains. "
   ]
  },
  {
   "cell_type": "code",
   "execution_count": null,
   "id": "a2bc4912",
   "metadata": {},
   "outputs": [],
   "source": [
    "### Case of 9 subdomains \n",
    "dir = \"errorDatasVar\"\n",
    "id = \"63fc89a4b0e9570495446a78\"\n",
    "gc.downloadFolderRecursive(id, dir, sync=True)\n",
    "cut1 = \"errors30Params_s\"\n",
    "cut2 = \".csv\"\n",
    "listdfl2=[]\n",
    "listlabel =[]\n",
    "\n",
    "for f in os.listdir(dir):\n",
    "    n = int(f[len(cut1):-len(cut2)])\n",
    "    file = os.path.join(dir, f)\n",
    "    dfG = pd.read_csv(file, sep=',')\n",
    "    dl2 = getDataStat(dfG,h1norm=False)\n",
    "    listdfl2.append(dl2)\n",
    "    listlabel.append(f\"{n} Params\")\n",
    "\n",
    "keys='Mean' # or 'Min', or 'Max'\n",
    "compareListOfDataFrams(listdfl2, norm=keys, listlabel=listlabel, rectif=True)"
   ]
  }
 ],
 "metadata": {
  "kernelspec": {
   "display_name": "Python 3",
   "language": "python",
   "name": "python3"
  },
  "language_info": {
   "codemirror_mode": {
    "name": "ipython",
    "version": 3
   },
   "file_extension": ".py",
   "mimetype": "text/x-python",
   "name": "python",
   "nbconvert_exporter": "python",
   "pygments_lexer": "ipython3",
   "version": "3.10.9"
  },
  "vscode": {
   "interpreter": {
    "hash": "aee8b7b246df8f9039afb4144a1f6fd8d2ca17a180786b69acc140d282b71a49"
   }
  }
 },
 "nbformat": 4,
 "nbformat_minor": 5
}
